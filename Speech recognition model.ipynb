{
 "cells": [
  {
   "cell_type": "code",
   "execution_count": 1,
   "id": "41b4aa76",
   "metadata": {},
   "outputs": [],
   "source": [
    "import speech_recognition\n",
    "import pyttsx3"
   ]
  },
  {
   "cell_type": "code",
   "execution_count": 2,
   "id": "c1c8bd20",
   "metadata": {},
   "outputs": [],
   "source": [
    "def SpeakNow(command, language):\n",
    "    voice = pyttsx3.init()\n",
    "    voice.say(command)\n",
    "    voice.runAndWait()\n"
   ]
  },
  {
   "cell_type": "code",
   "execution_count": 3,
   "id": "67255911",
   "metadata": {},
   "outputs": [
    {
     "name": "stdout",
     "output_type": "stream",
     "text": [
      "You can speak....... \n",
      "Sorry, I could not understand the speech.\n"
     ]
    }
   ],
   "source": [
    "sr = speech_recognition.Recognizer()\n",
    "\n",
    "message = \"You can speak....... \"\n",
    "\n",
    "with speech_recognition.Microphone() as source2:\n",
    "    \n",
    "    # Speak and show the message \"You can speak.......\"\n",
    "    \n",
    "    print(message)\n",
    "\n",
    "    SpeakNow(message, language=\"en-US\")\n",
    "    \n",
    "    sr.adjust_for_ambient_noise(source2, duration = 0.3)\n",
    "    \n",
    "    audio2 = sr.listen(source2)\n",
    "    \n",
    "    try:\n",
    "        # Recognize speech in English\n",
    "        textt_english = sr.recognize_google(audio2, language=\"en-US\")\n",
    "        print(\"You said that, \" + textt_english)\n",
    "        \n",
    "        # Speak the recognized English text\n",
    "        SpeakNow(textt_english, language=\"en-US\")\n",
    "\n",
    "        # Recognize speech in Tamil\n",
    "        textt_tamil = sr.recognize_google(audio2, language=\"ta-IN\")\n",
    "        print(\"You said that, \" + textt_tamil)\n",
    "        \n",
    "        # Speak the recognized Tamil text\n",
    "        SpeakNow(textt_tamil, language=\"ta-IN\")\n",
    "        \n",
    "    except speech_recognition.UnknownValueError:\n",
    "        print(\"Sorry, I could not understand the speech.\")\n",
    "        \n",
    "    except speech_recognition.RequestError as e:\n",
    "        print(f\"RequestError: {e}\")\n",
    "    \n",
    "    except speech_recognition.WaitTimeoutError:\n",
    "        print(\"Speech recognition timed out. No speech detected.\")"
   ]
  }
 ],
 "metadata": {
  "kernelspec": {
   "display_name": "Python 3 (ipykernel)",
   "language": "python",
   "name": "python3"
  },
  "language_info": {
   "codemirror_mode": {
    "name": "ipython",
    "version": 3
   },
   "file_extension": ".py",
   "mimetype": "text/x-python",
   "name": "python",
   "nbconvert_exporter": "python",
   "pygments_lexer": "ipython3",
   "version": "3.11.5"
  }
 },
 "nbformat": 4,
 "nbformat_minor": 5
}
